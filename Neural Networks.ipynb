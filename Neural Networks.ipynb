{
 "cells": [
  {
   "cell_type": "code",
   "execution_count": null,
   "id": "0ce544dc",
   "metadata": {},
   "outputs": [],
   "source": [
    "# Ryker Dolese, CAAM 210, FALL 2022, Project 11 on Neural Networks\n",
    "# NeuralNetworks.ipynp\n",
    "# This script is for the 11th Project on Canvas \n",
    "# Last Modified: November 17th, 2022"
   ]
  },
  {
   "cell_type": "code",
   "execution_count": 3,
   "id": "edf1d7b4",
   "metadata": {},
   "outputs": [],
   "source": [
    "import numpy as np\n",
    "import math\n",
    "import matplotlib.pyplot as plt\n",
    "import random"
   ]
  },
  {
   "cell_type": "code",
   "execution_count": 4,
   "id": "a9940a8d",
   "metadata": {},
   "outputs": [],
   "source": [
    "def sigmoid(x):\n",
    "    # Inputs: x (some number)\n",
    "    # Outputs: none\n",
    "    # This function uses the sigmoid function, which is then used in our neural function\n",
    "    s = 1/(1+np.exp(0.5-x)) # sigmoid equation\n",
    "    return s"
   ]
  },
  {
   "cell_type": "code",
   "execution_count": 5,
   "id": "ec9b3959",
   "metadata": {},
   "outputs": [],
   "source": [
    "def neural(V1, W1, maxiter,rate,TrnD,TrgD):\n",
    "    # Inputs:\n",
    "    # - V1 and W1 are the initial weight matrices\n",
    "    # - maxiter (defines the maximum number of iterations needed to train the neural network)\n",
    "    # - rate (corresponds to a gradient descent step)\n",
    "    # - TrnD and TrgD define the training data\n",
    "    # Outputs:\n",
    "    # - two weight matrices V, W after successful training at the given rate\n",
    "    # This function picks a random input pattern from the training data for each iteration, \n",
    "    # eventually returning two weight matrices V, W.\n",
    "    for i in range (0, maxiter):\n",
    "        N = np.shape(TrnD) # use shape command to find dimensions of matrix N\n",
    "        j = np.random.randint(N[0]) # pick a random pattern to test with\n",
    "        p = TrnD[j,:].T # pick a random letter from training data\n",
    "        q = sigmoid(V1@p) # use our sigmoid function\n",
    "        o = sigmoid(W1@q) # use our sigmoid function\n",
    "        tmp = (o-TrgD[j,:].T)@o.T@(1-o) \n",
    "        grad_W = tmp@q.T\n",
    "        grad_V = (W1.T*q*(1-q))@tmp@p.T\n",
    "        V = V1 - rate*grad_V\n",
    "        W = W1 - rate*grad_W\n",
    "        # these lines produce matrices V and W after training\n",
    "    return V,W"
   ]
  },
  {
   "cell_type": "code",
   "execution_count": 6,
   "id": "3f392c13",
   "metadata": {},
   "outputs": [],
   "source": [
    "def modify(L):\n",
    "    # Inputs:\n",
    "    # - L (a specific letter that is trying to be matched)\n",
    "    # Outputs: \n",
    "    # - Lmod (an array representing a modified letter)\n",
    "    # This function flips one bit in the letter. For instance, if r = [1111110001100001000010000], then one possibility\n",
    "    # for modify(r) = [0111110001100001000010000], where you just flip the first component.\n",
    "    n = np.random.randint(25) #generate a random integer from 0 to 25\n",
    "    Lmod = np.zeros((L.shape)) # define Lmod array\n",
    "    Lmod[0,:] = L[0,:] # define Lmod as the same matrix as L\n",
    "    if Lmod[0,n] == 1:\n",
    "        Lmod[0,n] = 0 # flip number to 0 if it was initially 1\n",
    "    if Lmod[0,n] == 0:\n",
    "        Lmod[0,n] = 1 # flip number to 1 if initially 0\n",
    "        \n",
    "    return Lmod"
   ]
  },
  {
   "cell_type": "code",
   "execution_count": 9,
   "id": "c0ad43a5",
   "metadata": {},
   "outputs": [],
   "source": [
    "def NeuralNetwork(TrnD,TrgD,maxiter,rate,L):\n",
    "    # Inputs:\n",
    "    # - maxiter (defines the maximum number of iterations needed to train the neural network)\n",
    "    # - rate (corresponds to a gradient descent step)\n",
    "    # - TrnD and TrgD define the training data\n",
    "    # - L (an array representing a letter)\n",
    "    # Outputs:\n",
    "    # - correct_cnt (the percentage of correct guesses by the function when identifying a letter)\n",
    "    # This function uses the computed matrices V and W to recognize randomly flipped letter ’e’.   \n",
    "    np.random.seed(0) # creating pseudo-random numbers\n",
    "    V1 = np.random.standard_normal(size = (25, 25))\n",
    "    np.random.seed(0)\n",
    "    W1 = np.random.standard_normal(size = (2, 25)) # making the process random\n",
    "    [V, W] = neural(V1, W1, maxiter,rate,TrnD,TrgD) #calling our neural function\n",
    "    count = 0 # start w zero correct answers\n",
    "    for n in range (0,100):\n",
    "        Lmod = modify(L) # modify the letter using modify\n",
    "        q = sigmoid(V@Lmod.T)# calling our sigmoid function\n",
    "        val = sigmoid(W@q)\n",
    "        if np.round_(val[0])==1 and np.round_(val[1])==1: # if letter identified matches modified letter\n",
    "            count=count+1 # add to count of correct answers\n",
    "        else:\n",
    "            count=count # else keep count the same\n",
    "    correct_cnt=(count/100)*100 # make it a percent\n",
    "    return correct_cnt"
   ]
  },
  {
   "cell_type": "code",
   "execution_count": 10,
   "id": "f7297cc2",
   "metadata": {},
   "outputs": [
    {
     "data": {
      "image/png": "[encoded data removed]",
      "text/plain": [
       "<Figure size 640x480 with 4 Axes>"
      ]
     },
     "metadata": {},
     "output_type": "display_data"
    },
    {
     "name": "stdout",
     "output_type": "stream",
     "text": [
      "Correct% = 100.0\n"
     ]
    }
   ],
   "source": [
    "#DRIVER\n",
    "r = np.array([1,1,1,1,1,1,0,0,0,1,1,0,0,0,0,1,0,0,0,0,1,0,0,0,0]) # create array representing letter r\n",
    "r = np.reshape(r,(5,5)) # rehape into 5X5 matrix\n",
    "plt.figure(1) # produce figure\n",
    "plt.subplot(1,4,1) # place in first position of subplot\n",
    "plt.imshow(r) # use imshow to show the nonzero entries\n",
    "# Repeat for i,c,e to spell out rice\n",
    "i = np.array([0,0,1,0,0,0,0,0,0,0,0,0,1,0,0,0,0,1,0,0,0,0,1,0,0])\n",
    "i = np.reshape(i,(5,5))\n",
    "plt.subplot(1,4,2)\n",
    "plt.imshow(i)\n",
    "c = np.array([1,1,1,1,1,1,0,0,0,0,1,0,0,0,0,1,0,0,0,0,1,1,1,1,1])\n",
    "plt.subplot(1,4,3)\n",
    "c = np.reshape(c,(5,5))\n",
    "plt.imshow(c)\n",
    "e = np.array([1,1,1,1,1,1,0,0,0,1,1,1,1,1,1,1,0,0,0,0,1,1,1,1,1])\n",
    "plt.subplot(1,4,4)\n",
    "e = np.reshape(e,(5,5))\n",
    "plt.imshow(e)\n",
    "plt.show(1) # show the beautiful plot!\n",
    "\n",
    "# redefine the letters as arrays\n",
    "r = np.array([1,1,1,1,1,1,0,0,0,1,1,0,0,0,0,1,0,0,0,0,1,0,0,0,0])\n",
    "i = np.array([0,0,1,0,0,0,0,0,0,0,0,0,1,0,0,0,0,1,0,0,0,0,1,0,0])\n",
    "c = np.array([1,1,1,1,1,1,0,0,0,0,1,0,0,0,0,1,0,0,0,0,1,1,1,1,1])\n",
    "e = np.array([1,1,1,1,1,1,0,0,0,1,1,1,1,1,1,1,0,0,0,0,1,1,1,1,1])\n",
    "\n",
    "TrnD = np.array([ [r], [i], [c], [e]]) # make our arrays 2d\n",
    "TrgD = np.array([ [[0,0]], [[0,1]], [[1,0]], [[1,1]] ]) # make our arrays 3d\n",
    "\n",
    "correct_cnt = NeuralNetwork(TrnD,TrgD,5000,0.1,TrnD[3,:]) # run Neural network for the letter 'e'\n",
    "print('Correct% = '+str(correct_cnt)) # print the correct %"
   ]
  },
  {
   "cell_type": "code",
   "execution_count": null,
   "id": "ce8cd14a",
   "metadata": {},
   "outputs": [],
   "source": []
  },
  {
   "cell_type": "code",
   "execution_count": null,
   "id": "aafd33dd",
   "metadata": {},
   "outputs": [],
   "source": []
  }
 ],
 "metadata": {
  "kernelspec": {
   "display_name": "Python 3 (ipykernel)",
   "language": "python",
   "name": "python3"
  },
  "language_info": {
   "codemirror_mode": {
    "name": "ipython",
    "version": 3
   },
   "file_extension": ".py",
   "mimetype": "text/x-python",
   "name": "python",
   "nbconvert_exporter": "python",
   "pygments_lexer": "ipython3",
   "version": "3.9.13"
  }
 },
 "nbformat": 4,
 "nbformat_minor": 5
}
