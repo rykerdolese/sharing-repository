{
 "cells": [
  {
   "cell_type": "code",
   "execution_count": 229,
   "id": "775c6eb8",
   "metadata": {},
   "outputs": [],
   "source": [
    "# Ryker Dolese, CAAM 210, FALL 2022, Project 12 (Pledged) on Cryptography\n",
    "# Cryptography.ipynp\n",
    "# This script is for the 12th Project on Canvas \n",
    "# Last Modified: November 25th, 2022"
   ]
  },
  {
   "cell_type": "code",
   "execution_count": 285,
   "id": "90fc63c3",
   "metadata": {},
   "outputs": [],
   "source": [
    "import numpy as np\n",
    "import math\n",
    "import matplotlib.pyplot as plt\n",
    "import random"
   ]
  },
  {
   "cell_type": "code",
   "execution_count": 286,
   "id": "1e45f783",
   "metadata": {},
   "outputs": [],
   "source": [
    "def downlow(Text):\n",
    "# Inputs: \n",
    "# - Text (a string of inputed characters)\n",
    "# Outputs:\n",
    "# - NumText (a vector of numbers associated with the given characters)\n",
    "# Converts the inputted characters to numbers between 0 to 26\n",
    "    NumText = np.zeros(len(Text)) #assign NumText as an array of zeros\n",
    "    for n in range(len(Text)-1): # run for the correct length\n",
    "        NumText[n] = ord(Text[n])-96 # assign the letters a number\n",
    "    return NumText"
   ]
  },
  {
   "cell_type": "code",
   "execution_count": 287,
   "id": "dadaf63b",
   "metadata": {},
   "outputs": [],
   "source": [
    "def downlowinv(NumText, y):\n",
    "# Inputs:\n",
    "# - NumText (a vector of numbers associated with the given characters)\n",
    "# - y (our key)\n",
    "# Outputs:\n",
    "# - Text (a string of inputed characters)\n",
    "# Converts the inputted number between 0 to 26 to its respective character\n",
    "\n",
    "    Text=[None]*len(NumText) #free, blank list the same size as NumText.\n",
    "    for n in range(len(NumText)):\n",
    "        NumText[n] = y[NumText[n]] # change our letters with the key\n",
    "        Text[n]=chr(int(NumText[n]+96)) # utilize chr( ) in a loop with inputNumText to produce Text from chr(NumText+96)\n",
    "    Text=''.join(Text) #convert the Text you get back from the chr( ) command from a list to a string\n",
    "    Text=Text.replace('`',' ') # replace your ` with spaces\n",
    "    \n",
    "    return Text"
   ]
  },
  {
   "cell_type": "code",
   "execution_count": 288,
   "id": "f97bf4d5",
   "metadata": {},
   "outputs": [],
   "source": [
    "def decoder(NumText, maxiter):\n",
    "# Inputs:\n",
    "# - Numtext (an array of numbers corresponfing to characters)\n",
    "# - maxiter (max number of iterations to run)\n",
    "# Outputs:\n",
    "# - y (a “guess” as to which symbol in the encoded message corresponds to which symbol in the deciphered message)\n",
    "# Decodes the given text using the Metropolis Algorithm\n",
    "    from copy import copy # use copy to account for cell communication\n",
    "    y = np.random.permutation(27) # randomize our initial key\n",
    "    for n in range(1,maxiter):\n",
    "        N = np.random.randint(0,26,2) # randomly choose 2 of the numbers in the key to flip\n",
    "        ymaybe = copy(y) # create ymaybe\n",
    "        ymaybe[N[0]]=y[N[1]] # flip the two numbers to make ymaybe different from y\n",
    "        ymaybe[N[1]]=y[N[0]]\n",
    "        ymaybesum = loglike(NumText,ymaybe) # calculate the liklihood sums of y and ymaybe\n",
    "        ysum = loglike(NumText,y)\n",
    "        ex = np.exp(ymaybesum-ysum) # use probability to determine whether or not to keep ymaybe\n",
    "        rand = np.random.uniform(0,1)\n",
    "        if ymaybesum > ysum: # if loglike is greater for ymaybe make ymaybe the new y\n",
    "            y = ymaybe\n",
    "        elif ex > rand: # use prob to determine if ymaybe should still be coisidered\n",
    "            y = ymaybe\n",
    "        else:\n",
    "            y = y # else, stick with original y\n",
    "    #print(y)\n",
    "        \n",
    "    return y"
   ]
  },
  {
   "cell_type": "code",
   "execution_count": 289,
   "id": "6110237d",
   "metadata": {},
   "outputs": [],
   "source": [
    "def loglike(NumText, y):\n",
    "# Inputs:\n",
    "# - NumText (an array of numbers corresponfing to characters)\n",
    "# - y (our key)\n",
    "# Ouputs:\n",
    "# - Sum (the sum of the loglikelihoods)\n",
    "# Computes the value of loglike funtion for a given transition probability matrix letterprob and key guess\n",
    "    M = np.load('/Users/rykerdolese/downloads/letterprob.npy') # use letter probabilities\n",
    "    Sum=0 # start with sum at 0\n",
    "    for n in range(len(NumText)-1):\n",
    "        Sum = Sum+math.log(M[y[int(NumText[n])], y[int(NumText[n+1])]]) # sum the loglikelyhood\n",
    "    return Sum"
   ]
  },
  {
   "cell_type": "code",
   "execution_count": 290,
   "id": "a65d7778",
   "metadata": {},
   "outputs": [
    {
     "name": "stdout",
     "output_type": "stream",
     "text": [
      "ever since computers there have always been ghosts in the machine random segments of code that have grouped together to form unexpected protocols unanticipated these free radicals engender questions of free will creativity and even the nature of what we might call the soul why is it that when some robots are left in darkness they will seek out the light why is it that when robots are stored in an empty space they will group together rather than stand alone how do we explain this behavior random segments of code or is it something more when does a perceptual schematic become consciousness when does a difference engine become the search for truth when does a personality simulation become the bitter mote of a soul\n"
     ]
    }
   ],
   "source": [
    "#Driver\n",
    "with open('/Users/rykerdolese/documents/encodedtext.txt', encoding = 'utf8') as f:\n",
    "    for line in f:\n",
    "        Text = line.strip('encodedtext.txt')\n",
    "    TextString = Text [0:-1] # these lines import our encrypted text\n",
    "\n",
    "NumText=downlow(TextString) #change the string into numbers\n",
    "y = decoder(NumText, 13000) # run 13000 iterations to decode the message\n",
    "INumText=[None]*len(NumText) \n",
    "for n in range(len(NumText)):\n",
    "    INumText[n]=int(NumText[n]) # make the NumText integers\n",
    "\n",
    "SolvedText = downlowinv(INumText,y) # convert them back into a string\n",
    "\n",
    "print(SolvedText) # print our message!!\n",
    "\n"
   ]
  },
  {
   "cell_type": "code",
   "execution_count": null,
   "id": "157cb737",
   "metadata": {},
   "outputs": [],
   "source": []
  },
  {
   "cell_type": "code",
   "execution_count": null,
   "id": "ecd42dff",
   "metadata": {},
   "outputs": [],
   "source": []
  }
 ],
 "metadata": {
  "kernelspec": {
   "display_name": "Python 3 (ipykernel)",
   "language": "python",
   "name": "python3"
  },
  "language_info": {
   "codemirror_mode": {
    "name": "ipython",
    "version": 3
   },
   "file_extension": ".py",
   "mimetype": "text/x-python",
   "name": "python",
   "nbconvert_exporter": "python",
   "pygments_lexer": "ipython3",
   "version": "3.9.13"
  }
 },
 "nbformat": 4,
 "nbformat_minor": 5
}
